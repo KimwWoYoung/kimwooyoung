{
  "nbformat": 4,
  "nbformat_minor": 0,
  "metadata": {
    "colab": {
      "private_outputs": true,
      "provenance": [],
      "authorship_tag": "ABX9TyMc34FOWzucxTld7rQIgNc3",
      "include_colab_link": true
    },
    "kernelspec": {
      "name": "python3",
      "display_name": "Python 3"
    },
    "language_info": {
      "name": "python"
    }
  },
  "cells": [
    {
      "cell_type": "markdown",
      "metadata": {
        "id": "view-in-github",
        "colab_type": "text"
      },
      "source": [
        "<a href=\"https://colab.research.google.com/github/KimwWoYoung/kimwooyoung/blob/main/AI_18_%EA%B9%80%EC%9A%B0%EC%98%81_section2.ipynb\" target=\"_parent\"><img src=\"https://colab.research.google.com/assets/colab-badge.svg\" alt=\"Open In Colab\"/></a>"
      ]
    },
    {
      "cell_type": "code",
      "execution_count": null,
      "metadata": {
        "id": "oiFRyLNSyNzK"
      },
      "outputs": [],
      "source": [
        "import pandas as pd\n",
        "import numpy as np\n",
        "from sklearn.linear_model import LinearRegression, RidgeCV, LassoCV\n",
        "from sklearn.ensemble import RandomForestRegressor\n",
        "from xgboost import XGBRegressor\n",
        "from sklearn.linear_model import LinearRegression, RidgeCV, LassoCV\n",
        "from sklearn.ensemble import RandomForestRegressor\n",
        "from xgboost import XGBRegressor\n",
        "from sklearn.preprocessing import MinMaxScaler\n",
        "from sklearn.model_selection import train_test_split\n",
        "from sklearn.metrics import mean_absolute_error, mean_squared_error, r2_score\n",
        "import matplotlib.pyplot as plt\n",
        "import seaborn as sns\n",
        "sns.set_style('whitegrid')\n",
        "plt.style.use(\"fivethirtyeight\")\n",
        "%matplotlib inline\n",
        "from pandas_datareader.data import DataReader\n",
        "import yfinance as yf\n",
        "from pandas_datareader import data as pdr\n",
        "from datetime import datetime\n",
        "\n",
        "\n",
        "# tech 관련주 4가지 리스트 구성 후 1년치 데이터 추출출\n",
        "tech_list = ['AAPL', 'GOOG', 'MSFT', 'AMZN']\n",
        "\n",
        "end = datetime.now()\n",
        "start = datetime(end.year - 1, end.month, end.day)\n",
        "\n",
        "for stock in tech_list:\n",
        "    globals()[stock] = yf.download(stock, start, end)\n",
        "    \n",
        "\n",
        "company_list = [AAPL, GOOG, MSFT, AMZN]\n",
        "company_name = [\"APPLE\", \"GOOGLE\", \"MICROSOFT\", \"AMAZON\"]\n",
        "\n",
        "for company, com_name in zip(company_list, company_name):\n",
        "    company[\"company_name\"] = com_name\n",
        "    \n",
        "df = pd.concat(company_list, axis=0)\n",
        "df.tail(10)"
      ]
    },
    {
      "cell_type": "code",
      "source": [
        "#데이터 특성 알아보기기\n",
        "df.describe()"
      ],
      "metadata": {
        "id": "cCAhriXmljqM"
      },
      "execution_count": null,
      "outputs": []
    },
    {
      "cell_type": "code",
      "source": [
        "# 결측치 여부 확인\n",
        "df.isnull().sum()"
      ],
      "metadata": {
        "id": "2Esvnuc85DNn"
      },
      "execution_count": null,
      "outputs": []
    },
    {
      "cell_type": "code",
      "source": [
        "#(AAPL, GOOG, MSFT, AMZN의 Close(종가) 가격 추이 비교 \n",
        "colors = ['lightsteelblue', 'cornflowerblue', 'royalblue', 'navy']\n",
        "\n",
        "plt.figure(figsize=(15, 10))\n",
        "plt.subplots_adjust(top=1.25, bottom=1.2)\n",
        "\n",
        "for i, company in enumerate(company_list, 1):\n",
        "    plt.subplot(2, 2, i)\n",
        "    company['Adj Close'].plot(color=colors[i-1])\n",
        "    plt.ylabel('Adj Close')\n",
        "    plt.xlabel(None)\n",
        "    plt.title(f\"Closing Price of {tech_list[i - 1]}\")\n",
        "    \n",
        "plt.tight_layout()"
      ],
      "metadata": {
        "id": "ly1CnFTwzAvJ"
      },
      "execution_count": null,
      "outputs": []
    },
    {
      "cell_type": "code",
      "source": [
        "# #(AAPL, GOOG, MSFT, AMZN의 거래량 추이 비교 \n",
        "colors = ['lightsteelblue', 'cornflowerblue', 'royalblue', 'navy']\n",
        "\n",
        "plt.figure(figsize=(15, 10))\n",
        "plt.subplots_adjust(top=1.25, bottom=1.2)\n",
        "\n",
        "for i, company in enumerate(company_list, 1):\n",
        "    plt.subplot(2, 2, i)\n",
        "    company['Volume'].plot(color=colors[i-1])\n",
        "    plt.ylabel('Volume')\n",
        "    plt.xlabel(None)\n",
        "    plt.title(f\"Sales Volume for {tech_list[i - 1]}\")\n",
        "    \n",
        "plt.tight_layout()"
      ],
      "metadata": {
        "id": "6KgbIaSCzKsS"
      },
      "execution_count": null,
      "outputs": []
    },
    {
      "cell_type": "code",
      "source": [
        "#10일, 20일, 50일의 이동평균 시각화화\n",
        "ma_day = [10, 20, 50]\n",
        "\n",
        "for ma in ma_day:\n",
        "    for company in company_list:\n",
        "        column_name = f\"MA for {ma} days\"\n",
        "        company[column_name] = company['Adj Close'].rolling(ma).mean()\n",
        "\n",
        "fig, axes = plt.subplots(nrows=2, ncols=2)\n",
        "fig.set_figheight(10)\n",
        "fig.set_figwidth(15)\n",
        "\n",
        "AAPL[['Adj Close', 'MA for 10 days', 'MA for 20 days', 'MA for 50 days']].plot(ax=axes[0,0])\n",
        "axes[0,0].set_title('APPLE')\n",
        "axes[0,0].legend(loc='lower left')\n",
        "\n",
        "GOOG[['Adj Close', 'MA for 10 days', 'MA for 20 days', 'MA for 50 days']].plot(ax=axes[0,1])\n",
        "axes[0,1].set_title('GOOGLE')\n",
        "axes[0,1].legend(loc='lower left')\n",
        "\n",
        "MSFT[['Adj Close', 'MA for 10 days', 'MA for 20 days', 'MA for 50 days']].plot(ax=axes[1,0])\n",
        "axes[1,0].set_title('MICROSOFT')\n",
        "axes[1,0].legend(loc='lower left')\n",
        "\n",
        "AMZN[['Adj Close', 'MA for 10 days', 'MA for 20 days', 'MA for 50 days']].plot(ax=axes[1,1])\n",
        "axes[1,1].set_title('AMAZON')\n",
        "axes[1,1].legend(loc='lower left')\n",
        "\n",
        "fig.tight_layout()"
      ],
      "metadata": {
        "id": "Q0gkNmtczRxU"
      },
      "execution_count": null,
      "outputs": []
    },
    {
      "cell_type": "code",
      "source": [
        "# Daily Return 그래프로 나타내기기\n",
        "for company in company_list:\n",
        "    company['Daily Return'] = company['Adj Close'].pct_change()\n",
        "\n",
        "# Then we'll plot the daily return percentage\n",
        "fig, axes = plt.subplots(nrows=2, ncols=2)\n",
        "fig.set_figheight(10)\n",
        "fig.set_figwidth(15)\n",
        "\n",
        "AAPL['Daily Return'].plot(ax=axes[0,0], legend=True, linestyle='--', marker='o')\n",
        "axes[0,0].set_title('APPLE')\n",
        "\n",
        "GOOG['Daily Return'].plot(ax=axes[0,1], legend=True, linestyle='--', marker='o')\n",
        "axes[0,1].set_title('GOOGLE')\n",
        "\n",
        "MSFT['Daily Return'].plot(ax=axes[1,0], legend=True, linestyle='--', marker='o')\n",
        "axes[1,0].set_title('MICROSOFT')\n",
        "\n",
        "AMZN['Daily Return'].plot(ax=axes[1,1], legend=True, linestyle='--', marker='o')\n",
        "axes[1,1].set_title('AMAZON')\n",
        "\n",
        "fig.tight_layout()"
      ],
      "metadata": {
        "id": "ZMmvQbR0z8Us"
      },
      "execution_count": null,
      "outputs": []
    },
    {
      "cell_type": "code",
      "source": [
        "#  기술 주식 종목들의 일일 수익률\n",
        "closing_df = pdr.get_data_yahoo(tech_list, start=start, end=end)['Adj Close']\n",
        "\n",
        "tech_rets = closing_df.pct_change()\n",
        "tech_rets.head()"
      ],
      "metadata": {
        "id": "edP3j_C10CYv"
      },
      "execution_count": null,
      "outputs": []
    },
    {
      "cell_type": "code",
      "source": [
        "# AAPL\tAMZN\tGOOG\tMSFT 간 관계\n",
        "\n",
        "sns.pairplot(tech_rets, kind='reg')"
      ],
      "metadata": {
        "id": "7VTmOJB90Q2P"
      },
      "execution_count": null,
      "outputs": []
    },
    {
      "cell_type": "code",
      "source": [
        "plt.figure(figsize=(12, 10))\n",
        "\n",
        "plt.subplot(2, 2, 1)\n",
        "sns.heatmap(tech_rets.corr(), annot=True, cmap='Blues')\n",
        "plt.title('Correlation of stock return')\n",
        "\n",
        "plt.subplot(2, 2, 2)\n",
        "sns.heatmap(closing_df.corr(), annot=True, cmap='Blues')\n",
        "plt.title('Correlation of stock closing price')"
      ],
      "metadata": {
        "id": "vKAL-Ov_0Vvn"
      },
      "execution_count": null,
      "outputs": []
    },
    {
      "cell_type": "code",
      "source": [
        "rets = tech_rets.dropna()\n",
        "\n",
        "area = np.pi * 20\n",
        "\n",
        "plt.figure(figsize=(10, 8))\n",
        "plt.scatter(rets.mean(), rets.std(), s=area)\n",
        "plt.xlabel('Expected return')\n",
        "plt.ylabel('Risk')\n",
        "\n",
        "for label, x, y in zip(rets.columns, rets.mean(), rets.std()):\n",
        "    plt.annotate(label, xy=(x, y), xytext=(50, 50), textcoords='offset points', ha='right', va='bottom', \n",
        "                 arrowprops=dict(arrowstyle='-', color='blue', connectionstyle='arc3,rad=-0.3'))"
      ],
      "metadata": {
        "id": "cFK7O6bb0rPs"
      },
      "execution_count": null,
      "outputs": []
    },
    {
      "cell_type": "code",
      "source": [
        "# Get the stock quote\n",
        "df = pdr.get_data_yahoo('GOOG', start='2013-04-11', end=datetime.now())\n",
        "# Show teh data\n",
        "df"
      ],
      "metadata": {
        "id": "FFnKV6RV0vTj"
      },
      "execution_count": null,
      "outputs": []
    },
    {
      "cell_type": "code",
      "source": [
        "plt.figure(figsize=(16,6))\n",
        "plt.title('Close Price GOOG')\n",
        "plt.plot(df['Close'])\n",
        "plt.xlabel('Date', fontsize=18)\n",
        "plt.ylabel('Close Price USD ($)', fontsize=18)\n",
        "plt.show()"
      ],
      "metadata": {
        "id": "QEGG8iGA0zgQ"
      },
      "execution_count": null,
      "outputs": []
    },
    {
      "cell_type": "code",
      "source": [
        "# Close 컬럼 data에 저장장\n",
        "data = df.filter(['Close'])\n",
        "dataset = data.values\n",
        "# 시계열 데이터이기 때문에 순서대로 앞에 80퍼를 train 데이터로 가져온다\n",
        "training_data_len = int(np.ceil( len(dataset) * .80 ))\n",
        "training_data_len\n",
        "# Scale the data\n",
        "scaler = MinMaxScaler(feature_range=(0,1))\n",
        "scaled_data = scaler.fit_transform(dataset)\n",
        "\n",
        "# Split the data into training and validation sets\n",
        "X_train, X_val, y_train, y_val = train_test_split(scaled_data[:-60], scaled_data[60:], test_size=0.2, shuffle=False)"
      ],
      "metadata": {
        "id": "_wq-uCq0F3_P"
      },
      "execution_count": null,
      "outputs": []
    },
    {
      "cell_type": "code",
      "source": [
        "# Close 컬럼 data에 저장장\n",
        "data = df.filter(['Close'])\n",
        "dataset = data.values\n",
        "\n",
        "# 스케일링\n",
        "scaler = MinMaxScaler(feature_range=(0,1))\n",
        "scaled_data = scaler.fit_transform(dataset)\n",
        "\n",
        "# training data set 생성 \n",
        "train_data = scaled_data[0:int(training_data_len), :]\n",
        "x_train = []\n",
        "y_train = []\n",
        "for i in range(60, len(train_data)):\n",
        "    x_train.append(train_data[i-60:i, 0])\n",
        "    y_train.append(train_data[i, 0])\n",
        "        \n",
        "x_train, y_train = np.array(x_train), np.array(y_train)\n",
        "x_train = np.reshape(x_train, (x_train.shape[0], x_train.shape[1]))\n",
        "\n",
        "#  models 학습하기\n",
        "models = [(\"Linear Regression\", LinearRegression()), \n",
        "          (\"Ridge CV\", RidgeCV(alphas=(0.001,0.1,1), cv=3)), \n",
        "          (\"Lasso CV\", LassoCV(alphas=(0.001,0.1,1), cv=5)),\n",
        "          (\"Random Forest\", RandomForestRegressor(n_estimators=1000, max_depth=5, min_samples_split=2, random_state=0)), \n",
        "          (\"XGB Regressor\", XGBRegressor(n_estimators=1000, max_depth=5, learning_rate=0.01, random_state=0))]\n",
        "for model_name, model in models:\n",
        "    model.fit(x_train, y_train)\n",
        "\n",
        "# testing data set 생성\n",
        "test_data = scaled_data[training_data_len - 60: , :]\n",
        "x_test = []\n",
        "y_test = dataset[training_data_len:, :]\n",
        "for i in range(60, len(test_data)):\n",
        "    x_test.append(test_data[i-60:i, 0])\n",
        "x_test = np.array(x_test)\n",
        "x_test = np.reshape(x_test, (x_test.shape[0], x_test.shape[1]))\n",
        "\n",
        "# models predicted price values  구하기\n",
        "predictions_list = []\n",
        "for model_name, model in models:\n",
        "    predictions = model.predict(x_test)\n",
        "    predictions = scaler.inverse_transform(predictions.reshape(-1, 1))\n",
        "    predictions_list.append(predictions)\n",
        "\n",
        "# models 평가\n",
        "for i, (model_name, model) in enumerate(models):\n",
        "    mae = mean_absolute_error(y_test, predictions_list[i])\n",
        "    mse = mean_squared_error(y_test, predictions_list[i])\n",
        "    rmse = np.sqrt(mse)\n",
        "    r2 = r2_score(y_test, predictions_list[i])\n",
        "    print(f\"{model_name}:\")\n",
        "    print(f\"MAE: {mae:.2f}\")\n",
        "    print(f\"MSE: {mse:.2f}\")\n",
        "    print(f\"RMSE: {rmse:.2f}\")\n",
        "    print(f\"R2 Score: {r2:.2f}\\n\")\n",
        "\n",
        "# baseline predictions\n",
        "baseline_predictions = np.full(shape=(len(y_test), 1), fill_value=y_train.mean())\n",
        "\n",
        "#  baseline predictions 평가\n",
        "baseline_mae = mean_absolute_error(y_test, baseline_predictions)\n",
        "baseline_mse = mean_squared_error(y_test, baseline_predictions)\n",
        "baseline_rmse = np.sqrt(baseline_mse)\n",
        "baseline_r2 = r2_score(y_test, baseline_predictions)\n",
        "\n",
        "print(f\"Baseline MAE: {baseline_mae:.2f}\")\n",
        "print(f\"Baseline MSE: {baseline_mse:.2f}\")\n",
        "print(f\"Baseline RMSE: {baseline_rmse:.2f}\")\n",
        "print(f\"Baseline R2 Score: {baseline_r2:.2f}\\n\")"
      ],
      "metadata": {
        "id": "mWub33we4ftb"
      },
      "execution_count": null,
      "outputs": []
    },
    {
      "cell_type": "code",
      "source": [
        "# RidgeCV model\n",
        "ridge_model = RidgeCV(alphas=(0.001,0.1,1), cv=3)\n",
        "ridge_model.fit(x_train, y_train)\n",
        "\n",
        "#feature importances\n",
        "feature_importances = ridge_model.coef_\n",
        "feature_importances"
      ],
      "metadata": {
        "id": "YrTt_V-CK1O2"
      },
      "execution_count": null,
      "outputs": []
    },
    {
      "cell_type": "code",
      "source": [
        "# Ridge CV feature importance\n",
        "ridge = models[1][1]\n",
        "coef = ridge.coef_\n",
        "features = []\n",
        "for i in range(60):\n",
        "    features.append(f\"lag_{i+1}\")\n",
        "    \n",
        "importance = pd.DataFrame({\"Feature\": features, \"Importance\": coef})\n",
        "importance = importance.set_index(\"Feature\")\n",
        "importance = importance.abs().sort_values(by=\"Importance\", ascending=False).head(10)\n",
        "\n",
        "# feature importances 그래프\n",
        "importance.plot(kind=\"barh\")\n",
        "plt.title(\"Ridge CV Feature Importances (Top 10)\")\n",
        "plt.xlabel(\"Importance\")\n",
        "plt.ylabel(\"Feature\")\n",
        "plt.show()"
      ],
      "metadata": {
        "id": "DGrlynkpLBd6"
      },
      "execution_count": null,
      "outputs": []
    },
    {
      "cell_type": "code",
      "source": [
        "# Ridge CV\n",
        "train = data[:training_data_len]\n",
        "valid = data[training_data_len:]\n",
        "valid['Predictions'] = predictions_list[1]\n",
        "\n",
        "plt.figure(figsize=(16,6))\n",
        "plt.title('Ridge CV')\n",
        "plt.xlabel('Date', fontsize=18)\n",
        "plt.ylabel('Close Price USD ($)', fontsize=18)\n",
        "plt.plot(train['Close'])\n",
        "plt.plot(valid[['Close', 'Predictions']])\n",
        "plt.legend(['Train', 'Val', 'Predictions'], loc='lower right')\n",
        "plt.show()"
      ],
      "metadata": {
        "id": "tTmJepRc5uhW"
      },
      "execution_count": null,
      "outputs": []
    },
    {
      "cell_type": "code",
      "source": [
        "# 예측 가격와 실제 가격 비교교\n",
        "valid"
      ],
      "metadata": {
        "id": "jCnIPI9bv5Qe"
      },
      "execution_count": null,
      "outputs": []
    },
    {
      "cell_type": "code",
      "source": [
        "# RandomForestRegressor\n",
        "train = data[:training_data_len]\n",
        "valid = data[training_data_len:]\n",
        "valid['Predictions'] = predictions_list[3]\n",
        "\n",
        "plt.figure(figsize=(16,6))\n",
        "plt.title('RandomForestRegressor')\n",
        "plt.xlabel('Date', fontsize=18)\n",
        "plt.ylabel('Close Price USD ($)', fontsize=18)\n",
        "plt.plot(train['Close'])\n",
        "plt.plot(valid[['Close', 'Predictions']])\n",
        "plt.legend(['Train', 'Val', 'Predictions'], loc='lower right')\n",
        "plt.show()"
      ],
      "metadata": {
        "id": "qwa_QxacMOZo"
      },
      "execution_count": null,
      "outputs": []
    },
    {
      "cell_type": "code",
      "source": [
        "# XGBRegressor \n",
        "train = data[:training_data_len]\n",
        "valid = data[training_data_len:]\n",
        "valid['Predictions'] = predictions_list[4]\n",
        "\n",
        "plt.figure(figsize=(16,6))\n",
        "plt.title('XGBRegressor')\n",
        "plt.xlabel('Date', fontsize=18)\n",
        "plt.ylabel('Close Price USD ($)', fontsize=18)\n",
        "plt.plot(train['Close'])\n",
        "plt.plot(valid[['Close', 'Predictions']])\n",
        "plt.legend(['Train', 'Val', 'Predictions'], loc='lower right')\n",
        "plt.show()"
      ],
      "metadata": {
        "id": "GYof9IlTHcqZ"
      },
      "execution_count": null,
      "outputs": []
    }
  ]
}