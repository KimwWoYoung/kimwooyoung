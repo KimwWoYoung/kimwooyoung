{
  "nbformat": 4,
  "nbformat_minor": 0,
  "metadata": {
    "colab": {
      "private_outputs": true,
      "provenance": []
    },
    "kernelspec": {
      "name": "python3",
      "display_name": "Python 3"
    },
    "language_info": {
      "name": "python"
    }
  },
  "cells": [
    {
      "cell_type": "code",
      "execution_count": null,
      "metadata": {
        "id": "RPoxyEzijEqE"
      },
      "outputs": [],
      "source": [
        "from google.colab import files\n",
        "uploaded = files.upload()"
      ]
    },
    {
      "cell_type": "code",
      "source": [
        "import pandas as pd\n",
        "import datetime\n",
        "import numpy as np\n",
        "import matplotlib.pyplot as plt\n",
        "import seaborn as sns\n",
        "df= pd.read_csv('vgames2.csv')"
      ],
      "metadata": {
        "id": "5rE1m8ZojQ29"
      },
      "execution_count": null,
      "outputs": []
    },
    {
      "cell_type": "markdown",
      "source": [
        "**EDA**"
      ],
      "metadata": {
        "id": "5cvxxoa8kvGT"
      }
    },
    {
      "cell_type": "code",
      "source": [
        "#Unnamed: 0 컬럼 삭제\n",
        "df.drop('Unnamed: 0'\t,axis=1,inplace=True)"
      ],
      "metadata": {
        "id": "-CUfcM3XCbGG"
      },
      "execution_count": null,
      "outputs": []
    },
    {
      "cell_type": "code",
      "source": [
        "#결측치 없는지 확인\n",
        "missing_values_count = df.isnull().sum()\n",
        "missing_values_count \n",
        "# Year/Genre/Publisher 결측치 존재함"
      ],
      "metadata": {
        "id": "gxmdxQmkk33K"
      },
      "execution_count": null,
      "outputs": []
    },
    {
      "cell_type": "markdown",
      "source": [
        "매출 전처리"
      ],
      "metadata": {
        "id": "u0TRhao34JRx"
      }
    },
    {
      "cell_type": "code",
      "source": [
        "df[df[\"NA_Sales\"].str.endswith(\"M\")]\n",
        "df[\"NA_Sales\"]=df[\"NA_Sales\"].str.replace('M', '')\n",
        "a=df[df[\"NA_Sales\"].str.endswith(\"K\")]\n",
        "a[\"NA_Sales\"]=a[\"NA_Sales\"].str.replace('K', '')\n",
        "a[\"NA_Sales\"].value_counts()\n",
        "a[\"NA_Sales\"] = pd.to_numeric(a[\"NA_Sales\"])\n",
        "a[\"NA_Sales\"]=a[\"NA_Sales\"]*0.001\n",
        "df.update(a,overwrite=True)\n",
        "df[\"NA_Sales\"]=pd.to_numeric(df[\"NA_Sales\"])"
      ],
      "metadata": {
        "id": "P5Mq79O64Izv"
      },
      "execution_count": null,
      "outputs": []
    },
    {
      "cell_type": "code",
      "source": [
        "df[df[\"EU_Sales\"].str.endswith(\"M\")]\n",
        "df[\"EU_Sales\"]=df[\"EU_Sales\"].str.replace('M', '')\n",
        "a=df[df[\"EU_Sales\"].str.endswith(\"K\")]\n",
        "a[\"EU_Sales\"]=a[\"EU_Sales\"].str.replace('K', '')\n",
        "a[\"EU_Sales\"].value_counts()\n",
        "a[\"EU_Sales\"] = pd.to_numeric(a[\"EU_Sales\"])\n",
        "a[\"EU_Sales\"]=a[\"EU_Sales\"]*0.001\n",
        "df.update(a,overwrite=True)\n",
        "df[\"EU_Sales\"] = pd.to_numeric(df[\"EU_Sales\"])"
      ],
      "metadata": {
        "id": "nmzJY2InqZxT"
      },
      "execution_count": null,
      "outputs": []
    },
    {
      "cell_type": "code",
      "source": [
        "df[df[\"JP_Sales\"].str.endswith(\"M\")]\n",
        "df[\"JP_Sales\"]=df[\"JP_Sales\"].str.replace('M', '')\n",
        "a=df[df[\"JP_Sales\"].str.endswith(\"K\")]\n",
        "a[\"JP_Sales\"]=a[\"JP_Sales\"].str.replace('K', '')\n",
        "a[\"JP_Sales\"].value_counts()\n",
        "a[\"JP_Sales\"] = pd.to_numeric(a[\"JP_Sales\"])\n",
        "a[\"JP_Sales\"]=a[\"JP_Sales\"]*0.001\n",
        "df.update(a,overwrite=True)\n",
        "df[\"JP_Sales\"] = pd.to_numeric(df[\"JP_Sales\"])"
      ],
      "metadata": {
        "id": "r2YjXNxaqdl-"
      },
      "execution_count": null,
      "outputs": []
    },
    {
      "cell_type": "code",
      "source": [
        "df[df[\"Other_Sales\"].str.endswith(\"M\")]\n",
        "df[\"Other_Sales\"]=df[\"Other_Sales\"].str.replace('M', '')\n",
        "a=df[df[\"Other_Sales\"].str.endswith(\"K\")]\n",
        "a[\"Other_Sales\"]=a[\"Other_Sales\"].str.replace('K', '')\n",
        "a[\"Other_Sales\"].value_counts()\n",
        "a[\"Other_Sales\"] = pd.to_numeric(a[\"Other_Sales\"])\n",
        "a[\"Other_Sales\"]=a[\"Other_Sales\"]*0.001\n",
        "df.update(a,overwrite=True)\n",
        "df[\"Other_Sales\"] = pd.to_numeric(df[\"Other_Sales\"])"
      ],
      "metadata": {
        "id": "AOxQHV4SqgX8"
      },
      "execution_count": null,
      "outputs": []
    },
    {
      "cell_type": "code",
      "source": [
        "df['sales_total'] = (df['NA_Sales'] + df['EU_Sales'] + df['JP_Sales'] + df['Other_Sales'] ) "
      ],
      "metadata": {
        "id": "B1EOnY1v4I1p"
      },
      "execution_count": null,
      "outputs": []
    },
    {
      "cell_type": "code",
      "source": [
        "#1. year 6자리인지 확인 후 아닌것 수기로 작성\n",
        "#2. year 6자리인것들 .0제거\n",
        "#3. year datatime으로 변경 \n",
        "#4. year 일정주기 기준으로 나누기\n",
        "#16597 총 데이터 갯수"
      ],
      "metadata": {
        "id": "yeNvg0CJlS-F"
      },
      "execution_count": null,
      "outputs": []
    },
    {
      "cell_type": "code",
      "source": [
        "df.Year=df.Year.astype(str)"
      ],
      "metadata": {
        "id": "Md-gJ1hmG-P1"
      },
      "execution_count": null,
      "outputs": []
    },
    {
      "cell_type": "code",
      "source": [
        "df_6=df[df.Year.str.len()==6] #-> 0000형식으로 변환\n",
        "df_4=df[df.Year.str.len()==4] #47 -> 0000형식으로 따로 변환\n",
        "df_3=df[df.Year.str.len()==3] #323 nan값 -> nan값 name platform 중복되는 값은 서치를 통해 수기로 작성 나머지는 삭제\n",
        "#len에 따라 if else문 작성하는 법 시간남으면 해보기 "
      ],
      "metadata": {
        "id": "aJ7YAxF_IRlo"
      },
      "execution_count": null,
      "outputs": []
    },
    {
      "cell_type": "code",
      "source": [
        "df_6.Year= df_6.Year.astype(str).str[:-2]"
      ],
      "metadata": {
        "id": "lpc1YTPHKAOA"
      },
      "execution_count": null,
      "outputs": []
    },
    {
      "cell_type": "code",
      "source": [
        "df_4.Year=df_4.Year.astype(str).str[:-2]"
      ],
      "metadata": {
        "id": "2m2lIZP6KnbQ"
      },
      "execution_count": null,
      "outputs": []
    },
    {
      "cell_type": "code",
      "source": [
        "df_4.Year = pd.to_numeric(df_4.Year)"
      ],
      "metadata": {
        "id": "9a7cxb7rK9H6"
      },
      "execution_count": null,
      "outputs": []
    },
    {
      "cell_type": "code",
      "source": [
        "df_4.Year_19=1900+df_4.Year[df_4.Year>23]"
      ],
      "metadata": {
        "id": "S4ExU_eVNlzj"
      },
      "execution_count": null,
      "outputs": []
    },
    {
      "cell_type": "code",
      "source": [
        "df_4.Year_20=2000+df_4.Year[df_4.Year<=23]"
      ],
      "metadata": {
        "id": "iWMraccfOAFD"
      },
      "execution_count": null,
      "outputs": []
    },
    {
      "cell_type": "code",
      "source": [
        "df_4.Year = pd.concat([df_4.Year_19,df_4.Year_20])\n",
        "df_4"
      ],
      "metadata": {
        "id": "dO0j0O4gF7S3"
      },
      "execution_count": null,
      "outputs": []
    },
    {
      "cell_type": "code",
      "source": [
        "df_3.Year=np.nan\n",
        "#버리기보다는 NAN값으로 둠으로 데이터 손실을 방지한다"
      ],
      "metadata": {
        "id": "ta7eV588Oa4l"
      },
      "execution_count": null,
      "outputs": []
    },
    {
      "cell_type": "code",
      "source": [
        "df_non_nan = pd.concat([df_4,df_6])"
      ],
      "metadata": {
        "id": "R9Fqp1J5agKz"
      },
      "execution_count": null,
      "outputs": []
    },
    {
      "cell_type": "code",
      "source": [
        "#=df_year_non_nan.Year.astype(np.datetime64)\n",
        "df_non_nan.Year = pd.to_numeric(df_non_nan.Year)"
      ],
      "metadata": {
        "id": "8yBl2QDERbpC"
      },
      "execution_count": null,
      "outputs": []
    },
    {
      "cell_type": "code",
      "source": [
        "#중복값 처리\n",
        "#SALES 합치기\n",
        "df_non_nan[df_non_nan.duplicated(subset=['Name','Platform'],keep=False )]\n",
        "#같은 이름의 게임이 존재해도 모두 같은 연도나 같은 플랫폼이 아니기 때문에 중복값 처리하지 않는다 "
      ],
      "metadata": {
        "id": "iF9hBFb_GOMp"
      },
      "execution_count": null,
      "outputs": []
    },
    {
      "cell_type": "code",
      "source": [
        "#결측치 중 Publisher같은 경우에는 게임 제목을 통해 알 수 있는 것은 처리해준다"
      ],
      "metadata": {
        "id": "PKQ_QYpSHOpn"
      },
      "execution_count": null,
      "outputs": []
    },
    {
      "cell_type": "code",
      "source": [
        "a= df_non_nan.groupby('Year')['sales_total'].sum()\n",
        "a= a.reset_index()"
      ],
      "metadata": {
        "id": "r1Y5PDbeH4Sm"
      },
      "execution_count": null,
      "outputs": []
    },
    {
      "cell_type": "code",
      "source": [
        "b= df_non_nan.groupby('Year')['NA_Sales'].sum()\n",
        "b= b.reset_index()"
      ],
      "metadata": {
        "id": "3SIXzwYSNrSO"
      },
      "execution_count": null,
      "outputs": []
    },
    {
      "cell_type": "code",
      "source": [
        "c= df_non_nan.groupby('Year')['EU_Sales'].sum()\n",
        "c= c.reset_index()"
      ],
      "metadata": {
        "id": "rGyD0umLNrUg"
      },
      "execution_count": null,
      "outputs": []
    },
    {
      "cell_type": "code",
      "source": [
        "d= df_non_nan.groupby('Year')['JP_Sales'].sum()\n",
        "d= d.reset_index()"
      ],
      "metadata": {
        "id": "hyv-k_JtNrWa"
      },
      "execution_count": null,
      "outputs": []
    },
    {
      "cell_type": "code",
      "source": [
        "a_b =pd.merge(a,b, how='outer',on='Year')"
      ],
      "metadata": {
        "id": "YgUhgUnjMXmz"
      },
      "execution_count": null,
      "outputs": []
    },
    {
      "cell_type": "code",
      "source": [
        "a_b_c= pd.merge(a_b,c, how='outer',on='Year')"
      ],
      "metadata": {
        "id": "-Tf7mGyVMnnK"
      },
      "execution_count": null,
      "outputs": []
    },
    {
      "cell_type": "code",
      "source": [
        "df_year= pd.merge(a_b_c,d, how='outer',on='Year')"
      ],
      "metadata": {
        "id": "WCoCaBF4NI3s"
      },
      "execution_count": null,
      "outputs": []
    },
    {
      "cell_type": "code",
      "source": [
        "plt.figure(figsize=(20, 5))\n",
        "plt.plot(df_year['Year'], df_year['sales_total'], label='sales total')\n",
        "plt.plot(df_year['Year'], df_year['NA_Sales'], label='NA_Sales')\n",
        "plt.plot(df_year['Year'], df_year['EU_Sales'], label='EU_Sales')\n",
        "plt.plot(df_year['Year'], df_year['JP_Sales'], label='JP_Sales')\n",
        "plt.title('Year of Sale')\n",
        "plt.xlabel('Year')\n",
        "plt.ylabel('sales_total')\n",
        "plt.legend()\n",
        "plt.show()"
      ],
      "metadata": {
        "id": "gR1hYIVXNann"
      },
      "execution_count": null,
      "outputs": []
    },
    {
      "cell_type": "code",
      "source": [
        "#연도를 기준을 통해 지정해주었다\n",
        "year_80=df_non_nan.query(\"Year >=1980\").query( \"Year <1990\" )\n",
        "year_90=df_non_nan.query(\"Year >=1990\").query( \"Year <2000\" )\n",
        "year_00=df_non_nan.query(\"Year >=2000\").query( \"Year <2005\" )\n",
        "year_05=df_non_nan.query(\"Year >=2005\").query( \"Year <2010\" )\n",
        "year_10=df_non_nan.query(\"Year >=2010\").query( \"Year <2015\" )\n",
        "year_15=df_non_nan.query(\"Year >=2015\")"
      ],
      "metadata": {
        "id": "DXtna3JvVTtQ"
      },
      "execution_count": null,
      "outputs": []
    },
    {
      "cell_type": "code",
      "source": [
        "year_80.Year='1980'\n",
        "year_90.Year= '1990'\n",
        "year_00.Year= '2000'\n",
        "year_05.Year= '2005'\n",
        "year_10.Year= '2010'\n",
        "year_15.Year= '2015'"
      ],
      "metadata": {
        "id": "UWPO5Of52uEE"
      },
      "execution_count": null,
      "outputs": []
    },
    {
      "cell_type": "code",
      "source": [
        "df_clean=pd.concat([year_80,year_90,year_00,year_05,year_10,year_15])"
      ],
      "metadata": {
        "id": "1XFe9bLj2yhM"
      },
      "execution_count": null,
      "outputs": []
    },
    {
      "cell_type": "code",
      "source": [
        "df_1980=df_clean[df_clean.Year=='1980']\n",
        "Genre=df_1980.groupby(['Year', 'Genre'])['sales_total'].count().groupby(level=0, group_keys=False).nlargest(5)\n",
        "platform=df_1980.groupby(['Year', 'Platform'])['sales_total'].count().groupby(level=0, group_keys=False).nlargest(3)\n",
        "publisher=df_1980.groupby(['Year', 'Publisher'])['sales_total'].sum().groupby(level=0, group_keys=False).nlargest(5)\n",
        "#name=df_1980.groupby(['Year', 'Name'])['sales_total'].count().groupby(level=0, group_keys=False).nlargest(5)"
      ],
      "metadata": {
        "id": "G_xy7cbkWELR"
      },
      "execution_count": null,
      "outputs": []
    },
    {
      "cell_type": "code",
      "source": [
        "df_top3_Publisher = df_1980.groupby(['Year', 'Publisher'])['sales_total'].sum().groupby(level=0, group_keys=False).nlargest(3)\n",
        "df_top3_Publisher= df_top3_Publisher.reset_index()\n",
        "plt.figure(figsize=(10,5))\n",
        "sns.barplot(x=\"Publisher\", y=\"sales_total\", data=df_top3_Publisher)\n",
        "plt.title('Top 3 Publisher by1980')\n",
        "plt.xlabel('Publisher')\n",
        "plt.ylabel('sales_total')\n",
        "plt.show()\n",
        "ratio = [66, 32, 30]\n",
        "labels = ['Action ', 'Platform', 'Shooter ']\n",
        "explode = [0.05, 0.05, 0.05]\n",
        "colors = ['lightskyblue', 'royalblue', 'lightgrey']\n",
        "wedgeprops={'width': 0.7, 'edgecolor': 'w', 'linewidth': 5}\n",
        "plt.pie(ratio, labels=labels, autopct='%.1f%%', startangle=260, counterclock=False, colors=colors, wedgeprops=wedgeprops)\n",
        "plt.title('Top 3 genre 1980')\n",
        "plt.show()\n",
        "ratio = [116, 74, 11]\n",
        "labels = ['2600 ', 'NES', 'GB ']\n",
        "explode = [0.05, 0.05, 0.05]\n",
        "colors = ['#ff9999', '#ffc000', '#d395d0']\n",
        "wedgeprops={'width': 0.7, 'edgecolor': 'w', 'linewidth': 5}\n",
        "plt.pie(ratio, labels=labels, autopct='%.1f%%', startangle=260, counterclock=False, colors=colors, wedgeprops=wedgeprops)\n",
        "plt.title('Top 3 Platform 1980')\n",
        "plt.show()"
      ],
      "metadata": {
        "id": "nj1VH0SOs5z9"
      },
      "execution_count": null,
      "outputs": []
    },
    {
      "cell_type": "code",
      "source": [
        "df_1990=df_clean[df_clean.Year=='1990']\n",
        "Genre=df_1990.groupby(['Year', 'Genre'])['sales_total'].count().groupby(level=0, group_keys=False).nlargest(5)\n",
        "platform=df_1990.groupby(['Year', 'Platform'])['sales_total'].count().groupby(level=0, group_keys=False).nlargest(4)\n",
        "publisher=df_1990.groupby(['Year', 'Publisher'])['sales_total'].sum().groupby(level=0, group_keys=False).nlargest(5)\n",
        "publisher= publisher.reset_index()\n",
        "#name=df_1990.groupby(['Year', 'Name'])['sales_total'].count().groupby(level=0, group_keys=False).nlargest(5)\n",
        "plt.figure(figsize=(13,5))\n",
        "sns.barplot(x=\"Publisher\", y=\"sales_total\", data=publisher)\n",
        "plt.title('Top 5 Publisher by1990')\n",
        "plt.xlabel('Publisher')\n",
        "plt.ylabel('sales_total')\n",
        "plt.show()\n",
        "Genre= Genre.reset_index()\n",
        "colors = ['lightskyblue', 'royalblue', 'blue','lightgrey','slategrey']\n",
        "wedgeprops={'width': 0.7, 'edgecolor': 'w', 'linewidth': 5}\n",
        "plt.pie(Genre.sales_total, labels=Genre.Genre, autopct='%.1f%%', startangle=260, counterclock=False, colors=colors, wedgeprops=wedgeprops)\n",
        "plt.title('Top 5 genre 1990')\n",
        "plt.show()\n",
        "platform=platform.reset_index()\n",
        "platform=platform.reset_index()\n",
        "colors = ['#ff9999', '#ffc000', '#d395d0','#8fd9b6']\n",
        "wedgeprops={'width': 0.7, 'edgecolor': 'w', 'linewidth': 5}\n",
        "plt.pie(platform.sales_total, labels=platform.Platform, autopct='%.1f%%', startangle=260, counterclock=False, colors=colors, wedgeprops=wedgeprops)\n",
        "plt.title('Top 4 platform 1990')\n",
        "plt.show()"
      ],
      "metadata": {
        "id": "92S4_eKQVLYQ"
      },
      "execution_count": null,
      "outputs": []
    },
    {
      "cell_type": "code",
      "source": [
        "df_2000=df_clean[df_clean.Year=='2000']\n",
        "Genre=df_2000.groupby(['Year', 'Genre'])['sales_total'].count().groupby(level=0, group_keys=False).nlargest(5)\n",
        "Genre= Genre.reset_index()\n",
        "platform=df_2000.groupby(['Year', 'Platform'])['sales_total'].count().groupby(level=0, group_keys=False).nlargest(5)\n",
        "platform=platform.reset_index()\n",
        "publisher=df_2000.groupby(['Year', 'Publisher'])['sales_total'].sum().groupby(level=0, group_keys=False).nlargest(5)\n",
        "publisher= publisher.reset_index()\n",
        "name=df_2000.groupby(['Year', 'Name'])['sales_total'].count().groupby(level=0, group_keys=False).nlargest(5)\n",
        "plt.figure(figsize=(10,5))\n",
        "sns.barplot(x=\"Publisher\", y=\"sales_total\", data=publisher)\n",
        "plt.title('Top 3 Publisher by 2000')\n",
        "plt.xlabel('Publisher')\n",
        "plt.ylabel('sales_total')\n",
        "plt.show()\n",
        "colors = ['lightskyblue', 'royalblue', 'blue','lightgrey','slategrey']\n",
        "wedgeprops={'width': 0.7, 'edgecolor': 'w', 'linewidth': 5}\n",
        "plt.pie(Genre.sales_total, labels=Genre.Genre, autopct='%.1f%%', startangle=260, counterclock=False, colors=colors, wedgeprops=wedgeprops)\n",
        "plt.title('Top 5 genre 2000')\n",
        "plt.show()\n",
        "platform=platform.reset_index()\n",
        "colors = ['#ff9999', '#ffc000', '#d395d0','#8fd9b6','darkorange']\n",
        "wedgeprops={'width': 0.7, 'edgecolor': 'w', 'linewidth': 5}\n",
        "plt.pie(platform.sales_total, labels=platform.Platform, autopct='%.1f%%', startangle=260, counterclock=False, colors=colors, wedgeprops=wedgeprops)\n",
        "plt.title('Top 5 platform 2000')\n",
        "plt.show()"
      ],
      "metadata": {
        "id": "EP7Hs56tWLnB"
      },
      "execution_count": null,
      "outputs": []
    },
    {
      "cell_type": "code",
      "source": [
        "df_2005=df_clean[df_clean.Year=='2005']\n",
        "Genre=df_2005.groupby(['Year', 'Genre'])['sales_total'].count().groupby(level=0, group_keys=False).nlargest(5)\n",
        "Genre= Genre.reset_index()\n",
        "platform=df_2005.groupby(['Year', 'Platform'])['sales_total'].count().groupby(level=0, group_keys=False).nlargest(5)\n",
        "platform=platform.reset_index()\n",
        "publisher=df_2005.groupby(['Year', 'Publisher'])['sales_total'].sum().groupby(level=0, group_keys=False).nlargest(5)\n",
        "publisher= publisher.reset_index()\n",
        "name=df_2005.groupby(['Year', 'Name'])['sales_total'].count().groupby(level=0, group_keys=False).nlargest(5)\n",
        "plt.figure(figsize=(10,5))\n",
        "sns.barplot(x=\"Publisher\", y=\"sales_total\", data=publisher)\n",
        "plt.title('Top 5 Publisher by 2005')\n",
        "plt.xlabel('Publisher')\n",
        "plt.ylabel('sales_total')\n",
        "plt.show()\n",
        "colors = ['lightskyblue', 'royalblue', 'blue','lightgrey','slategrey']\n",
        "wedgeprops={'width': 0.7, 'edgecolor': 'w', 'linewidth': 5}\n",
        "plt.pie(Genre.sales_total, labels=Genre.Genre, autopct='%.1f%%', startangle=260, counterclock=False, colors=colors, wedgeprops=wedgeprops)\n",
        "plt.title('Top 5 genre 2005')\n",
        "plt.show()\n",
        "platform=platform.reset_index()\n",
        "colors = ['#ff9999', '#ffc000', '#d395d0','#8fd9b6','darkorange']\n",
        "wedgeprops={'width': 0.7, 'edgecolor': 'w', 'linewidth': 5}\n",
        "plt.pie(platform.sales_total, labels=platform.Platform, autopct='%.1f%%', startangle=260, counterclock=False, colors=colors, wedgeprops=wedgeprops)\n",
        "plt.title('Top 5 platform 2005')\n",
        "plt.show()"
      ],
      "metadata": {
        "id": "YCyrJYb2W7Uu"
      },
      "execution_count": null,
      "outputs": []
    },
    {
      "cell_type": "code",
      "source": [
        "df_2010=df_clean[df_clean.Year=='2010']\n",
        "Genre=df_2010.groupby(['Year', 'Genre'])['sales_total'].count().groupby(level=0, group_keys=False).nlargest(5)\n",
        "Genre= Genre.reset_index()\n",
        "platform=df_2010.groupby(['Year', 'Platform'])['sales_total'].count().groupby(level=0, group_keys=False).nlargest(5)\n",
        "platform=platform.reset_index()\n",
        "publisher=df_2010.groupby(['Year', 'Publisher'])['sales_total'].sum().groupby(level=0, group_keys=False).nlargest(5)\n",
        "publisher= publisher.reset_index()\n",
        "name=df_2010.groupby(['Year', 'Name'])['sales_total'].count().groupby(level=0, group_keys=False).nlargest(5)\n",
        "plt.figure(figsize=(10,5))\n",
        "sns.barplot(x=\"Publisher\", y=\"sales_total\", data=publisher)\n",
        "plt.title('Top 5 Publisher by 2010')\n",
        "plt.xlabel('Publisher')\n",
        "plt.ylabel('sales_total')\n",
        "plt.show()\n",
        "colors = ['lightskyblue', 'royalblue', 'blue','lightgrey','slategrey']\n",
        "wedgeprops={'width': 0.7, 'edgecolor': 'w', 'linewidth': 5}\n",
        "plt.pie(Genre.sales_total, labels=Genre.Genre, autopct='%.1f%%', startangle=260, counterclock=False, colors=colors, wedgeprops=wedgeprops)\n",
        "plt.title('Top 5 genre 2010')\n",
        "plt.show()\n",
        "platform=platform.reset_index()\n",
        "colors = ['#ff9999', '#ffc000', '#d395d0','#8fd9b6','darkorange']\n",
        "wedgeprops={'width': 0.7, 'edgecolor': 'w', 'linewidth': 5}\n",
        "plt.pie(platform.sales_total, labels=platform.Platform, autopct='%.1f%%', startangle=260, counterclock=False, colors=colors, wedgeprops=wedgeprops)\n",
        "plt.title('Top 5 platform 2010')\n",
        "plt.show()"
      ],
      "metadata": {
        "id": "etWy9yu-X44q"
      },
      "execution_count": null,
      "outputs": []
    },
    {
      "cell_type": "code",
      "source": [
        "df_2015=df_clean[df_clean.Year=='2015']\n",
        "Genre=df_2015.groupby(['Year', 'Genre'])['sales_total'].count().groupby(level=0, group_keys=False).nlargest(5)\n",
        "Genre= Genre.reset_index()\n",
        "platform=df_2015.groupby(['Year', 'Platform'])['sales_total'].count().groupby(level=0, group_keys=False).nlargest(5)\n",
        "platform=platform.reset_index()\n",
        "publisher=df_2015.groupby(['Year', 'Publisher'])['sales_total'].sum().groupby(level=0, group_keys=False).nlargest(5)\n",
        "publisher= publisher.reset_index()\n",
        "name=df_2015.groupby(['Year', 'Name'])['sales_total'].count().groupby(level=0, group_keys=False).nlargest(5)\n",
        "plt.figure(figsize=(14,5))\n",
        "sns.barplot(x=\"Publisher\", y=\"sales_total\", data=publisher)\n",
        "plt.title('Top 5 Publisher by 2015')\n",
        "plt.xlabel('Publisher')\n",
        "plt.ylabel('sales_total')\n",
        "plt.show()\n",
        "colors = ['lightskyblue', 'royalblue', 'blue','lightgrey','slategrey']\n",
        "wedgeprops={'width': 0.7, 'edgecolor': 'w', 'linewidth': 5}\n",
        "plt.pie(Genre.sales_total, labels=Genre.Genre, autopct='%.1f%%', startangle=260, counterclock=False, colors=colors, wedgeprops=wedgeprops)\n",
        "plt.title('Top 5 genre 2015')\n",
        "plt.show()\n",
        "platform=platform.reset_index()\n",
        "colors = ['#ff9999', '#ffc000', '#d395d0','#8fd9b6','darkorange']\n",
        "wedgeprops={'width': 0.7, 'edgecolor': 'w', 'linewidth': 5}\n",
        "plt.pie(platform.sales_total, labels=platform.Platform, autopct='%.1f%%', startangle=260, counterclock=False, colors=colors, wedgeprops=wedgeprops)\n",
        "plt.title('Top 5 platform 2015')\n",
        "plt.show()"
      ],
      "metadata": {
        "id": "D4RlxLchYCTx"
      },
      "execution_count": null,
      "outputs": []
    },
    {
      "cell_type": "markdown",
      "source": [
        "연도별 게임의 트렌드가 있을까 라는 질문에 대답을 하셔야합니다.\n",
        "스포츠가 인기가 1995년부터 올라가더니 점점 인기가 줄고 있다\n",
        "또한 액션 역신 2000년대부터 선풍적으로 인기를 끌더니 감소하고 있다\n",
        "하지만 이는 게임 자체의 인가가 줄은것인지 이 장르들이 줄은 것인지 확신할 수 없기 때문에 normalization을 통해 그래프를 다시 그려 확인해보아야한다\n",
        "\n",
        "트렌드는 어떤 것을 기준으로 파악했나요?\n",
        "\n",
        "연도별로 트렌드가 존재하나요?\n",
        "\n",
        "왜 존재한다/존재하지 않는다고 생각했나요?"
      ],
      "metadata": {
        "id": "aFqVdeluXVLf"
      }
    },
    {
      "cell_type": "code",
      "source": [
        "df_na=df_clean[df_clean.NA_Sales>0]\n",
        "#df_na.iloc[]\n",
        "A=df_na.groupby('Genre').count()\n",
        "sr=A.NA_Sales.nlargest(5)\n",
        "sr\n",
        "sr.plot(kind='bar',figsize=(8,6),title='NA Genre top 5',legend=True,grid=True,ylim=(0,3000),rot=45)\n",
        "plt.show()\n",
        "#na는 Action>Sports>Misc>Shooter>Racing"
      ],
      "metadata": {
        "id": "Jupio9a9YT57"
      },
      "execution_count": null,
      "outputs": []
    },
    {
      "cell_type": "code",
      "source": [
        "df_Action=df_clean[df_clean.Genre\t=='Sports']\n",
        "df_Action= df_non_nan.groupby('Name')['sales_total'].sum()\n",
        "df_Action= df_Action.reset_index()\n",
        "df_Action"
      ],
      "metadata": {
        "id": "17sCVRzo0_Up"
      },
      "execution_count": null,
      "outputs": []
    },
    {
      "cell_type": "code",
      "source": [
        "df_Action=df_clean[df_clean.Genre\t=='Action']\n",
        "df_Action= df_non_nan.groupby('Name')['sales_total'].sum()\n",
        "df_Action= df_Action.reset_index()\n",
        "df_Action"
      ],
      "metadata": {
        "id": "a-NbVLIy3QOq"
      },
      "execution_count": null,
      "outputs": []
    },
    {
      "cell_type": "code",
      "source": [
        "df_EU=df_clean[df_clean.EU_Sales>0]\n",
        "#df_na.iloc[]\n",
        "A=df_EU.groupby('Genre').count()\n",
        "sr=A.EU_Sales.nlargest(5)\n",
        "sr\n",
        "sr.plot(kind='bar',figsize=(8,6),title='EU Genre top 5',legend=True,grid=True,ylim=(0,3000),rot=45,color ='C1')\n",
        "plt.show()"
      ],
      "metadata": {
        "id": "y0qosOn7ZYec"
      },
      "execution_count": null,
      "outputs": []
    },
    {
      "cell_type": "code",
      "source": [
        "df_JP=df_clean[df_clean.JP_Sales>0]\n",
        "#df_na.iloc[]\n",
        "A=df_JP.groupby('Genre').count()\n",
        "sr=A.JP_Sales.nlargest(5)\n",
        "sr\n",
        "sr.plot(kind='bar',figsize=(8,6),title='JP Genre top 5',legend=True,grid=True,ylim=(0,3000),rot=45,color='limegreen')\n",
        "plt.show()\n",
        "#na는 Action>Role-Playing>Adventure>Sports>Misc"
      ],
      "metadata": {
        "id": "k26beXZxZkg1"
      },
      "execution_count": null,
      "outputs": []
    },
    {
      "cell_type": "code",
      "source": [
        "df_Other=df_clean[df_clean.Other_Sales>0]\n",
        "#df_na.iloc[]\n",
        "A=df_Other.groupby('Genre').count()\n",
        "sr=A.Other_Sales.nlargest(5)\n",
        "sr\n",
        "sr.plot(kind='bar',figsize=(8,6),title='Other Genre top 5',legend=True,grid=True,ylim=(0,3000),rot=45,color='lightpink')\n",
        "plt.show()\n",
        "#na는 Action>Role-Playing>Adventure>Sports>Misc"
      ],
      "metadata": {
        "id": "Tfd7w4IPv3hj"
      },
      "execution_count": null,
      "outputs": []
    },
    {
      "cell_type": "code",
      "source": [
        "df_Name_top3 = df.groupby(['Name','Platform', 'Year', 'Genre', 'Publisher', 'NA_Sales',\n",
        "       'EU_Sales', 'JP_Sales', 'Other_Sales'])['sales_total'].sum().nlargest(10)\n",
        "df_Name_top3 = df_Name_top3.reset_index()\n",
        "df_Name_top3"
      ],
      "metadata": {
        "id": "QZssu0NcwHBD"
      },
      "execution_count": null,
      "outputs": []
    },
    {
      "cell_type": "code",
      "source": [
        "df_Name_top3 = df.groupby(['Name','Platform', 'Year', 'Genre', 'Publisher', 'NA_Sales',\n",
        "       'EU_Sales', 'JP_Sales', 'Other_Sales'])['sales_total'].sum().nsmallest(10)\n",
        "df_Name_top3 = df_Name_top3.reset_index()\n",
        "df_Name_top3"
      ],
      "metadata": {
        "id": "TD3wK2BLwHDq"
      },
      "execution_count": null,
      "outputs": []
    },
    {
      "cell_type": "code",
      "source": [
        "#년도별 트랜드/ 어느 나라가 sales가장 큰지, 년도별로 어떤 플랫폼 퍼블리셔가 가장 많았는지 확ㅇ니 \n",
        "df_Name_top3 = df_non_nan.groupby(['Name','Platform', 'Year', 'Genre', 'Publisher', 'NA_Sales',\n",
        "       'EU_Sales', 'JP_Sales', 'Other_Sales'])['sales_total'].sum().nlargest(5)\n",
        "df_Name_top3 = df_Name_top3.reset_index()\n",
        "plt.figure(figsize=(20,10))\n",
        "sns.barplot(x=\"Name\", y=\"sales_total\", data=df_Name_top3)\n",
        "plt.title('Top 5 game')\n",
        "plt.ylabel('sales_total')\n",
        "plt.show()"
      ],
      "metadata": {
        "id": "aRe3Yz3nwHHL"
      },
      "execution_count": null,
      "outputs": []
    },
    {
      "cell_type": "code",
      "source": [
        "df_Name_top30= df_non_nan.groupby(['Name','Platform', 'Year', 'Genre', 'Publisher', 'NA_Sales',\n",
        "       'EU_Sales', 'JP_Sales', 'Other_Sales'])['sales_total'].sum().nlargest(10)\n",
        "df_Name_top30 = df_Name_top30.reset_index()\n",
        "df_Name_top30.Genre.value_counts()"
      ],
      "metadata": {
        "id": "dqRPKI3pcCUT"
      },
      "execution_count": null,
      "outputs": []
    },
    {
      "cell_type": "code",
      "source": [
        "df_Name_top30"
      ],
      "metadata": {
        "id": "YWd_xPiGcjWc"
      },
      "execution_count": null,
      "outputs": []
    },
    {
      "cell_type": "code",
      "source": [
        "df_SUM= df_non_nan.groupby('Genre')['sales_total'].sum()\n",
        "df_SUM= df_SUM.reset_index()\n",
        "df_SUM\n",
        "#난텐도 회사 압도적"
      ],
      "metadata": {
        "id": "-0K9zdvIfPxA"
      },
      "execution_count": null,
      "outputs": []
    },
    {
      "cell_type": "code",
      "source": [
        "df_COUNT= df_non_nan.groupby('Genre')['sales_total'].count()\n",
        "df_COUNT= df_COUNT.reset_index()\n",
        "df_COUNT.rename(columns = {\"sales_total\": \"count\"}, inplace = True)\n",
        "df_COUNT"
      ],
      "metadata": {
        "id": "nXlunzelfRKz"
      },
      "execution_count": null,
      "outputs": []
    },
    {
      "cell_type": "code",
      "source": [
        "df_genre = pd.merge(df_SUM,df_COUNT, how='outer',on='Genre')\n",
        "df_genre['장르당 매출']=round(df_genre['sales_total']/df_genre['count'],2)\n",
        "ab=df_genre.sort_values('장르당 매출', ascending=False)\n",
        "ab"
      ],
      "metadata": {
        "id": "rZgw3qrhfSQC"
      },
      "execution_count": null,
      "outputs": []
    },
    {
      "cell_type": "code",
      "source": [
        "plt.figure(figsize=(20,10))\n",
        "sns.barplot(x=\"Genre\", y=\"장르당 매출\", data=ab)\n",
        "plt.title('best sales genre')\n",
        "plt.ylabel('genre per sales')\n",
        "plt.show()"
      ],
      "metadata": {
        "id": "SwteGrJeg-rj"
      },
      "execution_count": null,
      "outputs": []
    },
    {
      "cell_type": "code",
      "source": [
        "df_Publisher_top5= df_non_nan.groupby('Publisher')['sales_total'].sum().nlargest(5)\n",
        "df_Publisher_top5=df_Publisher_top5.reset_index()\n",
        "colors = ['lightskyblue', 'royalblue', 'blue','lightgrey','slategrey']\n",
        "wedgeprops={'width': 0.7, 'edgecolor': 'w', 'linewidth': 5}\n",
        "plt.pie(df_Publisher_top5.sales_total, labels=df_Publisher_top5.Publisher, autopct='%.1f%%', startangle=260, counterclock=False, colors=colors, wedgeprops=wedgeprops)\n",
        "plt.title('Top 5 Publisher')\n",
        "plt.show()"
      ],
      "metadata": {
        "id": "VOlAaPjyfTgJ"
      },
      "execution_count": null,
      "outputs": []
    },
    {
      "cell_type": "code",
      "source": [
        "df_Nintendo =df_non_nan[df_non_nan.Publisher=='Nintendo']\n",
        "abc= df_Nintendo.groupby('Genre')['sales_total'].count().nlargest(5)\n",
        "abc=abc.reset_index()\n",
        "abc.rename(columns = {\"sales_total\": \"count\"}, inplace = True)\n",
        "abc"
      ],
      "metadata": {
        "id": "6XY50tUNgTYf"
      },
      "execution_count": null,
      "outputs": []
    },
    {
      "cell_type": "code",
      "source": [
        "plt.figure(figsize=(10,5))\n",
        "sns.barplot(x=\"Genre\", y=\"count\", data=abc)\n",
        "plt.title('Top 5 Genre Nintendo')\n",
        "plt.ylabel('genre of Nintendo')\n",
        "plt.show()"
      ],
      "metadata": {
        "id": "UnXznvcnjQ4u"
      },
      "execution_count": null,
      "outputs": []
    },
    {
      "cell_type": "code",
      "source": [
        "df_Electronic =df_non_nan[df_non_nan.Publisher=='Electronic Arts']\n",
        "abc= df_Electronic.groupby('Genre')['sales_total'].count().nlargest(5)\n",
        "abc=abc.reset_index()\n",
        "abc.rename(columns = {\"sales_total\": \"count\"}, inplace = True)\n",
        "abc\n",
        "plt.figure(figsize=(10,5))\n",
        "sns.barplot(x=\"Genre\", y=\"count\", data=abc)\n",
        "plt.title('Top 5 Genre Electronic Arts')\n",
        "plt.ylabel('genre of Electronic Arts')\n",
        "plt.show()"
      ],
      "metadata": {
        "id": "TlZLNnM1h0fL"
      },
      "execution_count": null,
      "outputs": []
    },
    {
      "cell_type": "code",
      "source": [
        "df_Electronic.shape,df_Nintendo.shape"
      ],
      "metadata": {
        "id": "p_u7UO7TquMJ"
      },
      "execution_count": null,
      "outputs": []
    },
    {
      "cell_type": "code",
      "source": [
        "df_Activision =df_non_nan[df_non_nan.Publisher=='Activision']\n",
        "abc= df_Nintendo.groupby('Genre')['sales_total'].count().nlargest(5)\n",
        "abc=abc.reset_index()\n",
        "abc.rename(columns = {\"sales_total\": \"count\"}, inplace = True)\n",
        "plt.figure(figsize=(10,5))\n",
        "sns.barplot(x=\"Genre\", y=\"count\", data=abc)\n",
        "plt.title('Top 5 Genre Activision')\n",
        "plt.ylabel('genre of Activision')\n",
        "plt.show()"
      ],
      "metadata": {
        "id": "yQq-a4PKCYZX"
      },
      "execution_count": null,
      "outputs": []
    }
  ]
}