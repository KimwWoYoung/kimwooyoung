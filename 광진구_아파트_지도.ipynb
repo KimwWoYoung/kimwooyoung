{
  "nbformat": 4,
  "nbformat_minor": 0,
  "metadata": {
    "colab": {
      "private_outputs": true,
      "provenance": [],
      "authorship_tag": "ABX9TyORcp0zns9Wnfc7fm/sNyjP",
      "include_colab_link": true
    },
    "kernelspec": {
      "name": "python3",
      "display_name": "Python 3"
    },
    "language_info": {
      "name": "python"
    }
  },
  "cells": [
    {
      "cell_type": "markdown",
      "metadata": {
        "id": "view-in-github",
        "colab_type": "text"
      },
      "source": [
        "<a href=\"https://colab.research.google.com/github/KimwWoYoung/kimwooyoung/blob/main/%EA%B4%91%EC%A7%84%EA%B5%AC_%EC%95%84%ED%8C%8C%ED%8A%B8_%EC%A7%80%EB%8F%84.ipynb\" target=\"_parent\"><img src=\"https://colab.research.google.com/assets/colab-badge.svg\" alt=\"Open In Colab\"/></a>"
      ]
    },
    {
      "cell_type": "code",
      "execution_count": null,
      "metadata": {
        "id": "OOr64BgEhic3"
      },
      "outputs": [],
      "source": [
        "from google.colab import files\n",
        "files.upload();"
      ]
    },
    {
      "cell_type": "code",
      "source": [
        "import folium\n",
        "import numpy as np\n",
        "import pandas as pd\n",
        "import matplotlib.pyplot as plt"
      ],
      "metadata": {
        "id": "fKsAhnBxiFXC"
      },
      "execution_count": null,
      "outputs": []
    },
    {
      "cell_type": "code",
      "source": [
        "df= pd.read_csv('광진구아파트.csv',encoding='cp949')\n",
        "df.head()"
      ],
      "metadata": {
        "id": "SbWFAjsihuS7"
      },
      "execution_count": null,
      "outputs": []
    },
    {
      "cell_type": "code",
      "source": [
        "df_sub=df[['좌표X', '좌표Y', 'k-아파트명']]"
      ],
      "metadata": {
        "id": "Bv7GFRnjsi8S"
      },
      "execution_count": null,
      "outputs": []
    },
    {
      "cell_type": "code",
      "source": [
        "import folium\n",
        "\n",
        "# 서울시의 위도\n",
        "latitude = 37.529432\n",
        "longitude = 127.083991\n",
        "\n",
        "m = folium.Map(location=[latitude, longitude],\n",
        "               tooltip=\"자양경남아너스빌\",\n",
        "               zoom_start=15, \n",
        "               width=1300, \n",
        "               height=800\n",
        "              )\n",
        "m"
      ],
      "metadata": {
        "id": "tnmGg8xcttWV"
      },
      "execution_count": null,
      "outputs": []
    },
    {
      "cell_type": "code",
      "source": [
        "map_info = df_sub[['좌표Y', '좌표X', 'k-아파트명']].dropna()\n",
        "for lat, long, name in zip(map_info['좌표Y'], map_info['좌표X'],map_info['k-아파트명']):\n",
        "    folium.Marker([lat, long], popup=name, tooltip=name).add_to(m)\n",
        "m"
      ],
      "metadata": {
        "id": "06yUOwPBrFVk"
      },
      "execution_count": null,
      "outputs": []
    },
    {
      "cell_type": "code",
      "source": [
        "m.save('map.html')"
      ],
      "metadata": {
        "id": "qBGAmAhRnP6C"
      },
      "execution_count": null,
      "outputs": []
    },
    {
      "cell_type": "code",
      "source": [],
      "metadata": {
        "id": "nKt1Y03boA1y"
      },
      "execution_count": null,
      "outputs": []
    }
  ]
}